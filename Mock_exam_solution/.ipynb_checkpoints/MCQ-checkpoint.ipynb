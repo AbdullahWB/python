{
 "cells": [
  {
   "cell_type": "markdown",
   "id": "735b1596-5c11-4acc-80a2-bb7025dc242b",
   "metadata": {},
   "source": [
    " ## MCQ problem solve\n"
   ]
  },
  {
   "cell_type": "markdown",
   "id": "8dcd3090-6b3b-4ebb-be8c-40ebcfca1916",
   "metadata": {},
   "source": [
    "1. What will be the output of the following code?\n",
    "Code: x = \"10\", y = 5, print(x + y)\n",
    "Options: A) 15, B) 105, C) TypeError, D) 10 6\n",
    "``Answer: C) TypeError``"
   ]
  },
  {
   "cell_type": "code",
   "execution_count": 16,
   "id": "b8e07ded-975e-4258-b1be-3b0512a1920b",
   "metadata": {},
   "outputs": [
    {
     "ename": "TypeError",
     "evalue": "can only concatenate str (not \"int\") to str",
     "output_type": "error",
     "traceback": [
      "\u001b[1;31m---------------------------------------------------------------------------\u001b[0m",
      "\u001b[1;31mTypeError\u001b[0m                                 Traceback (most recent call last)",
      "Cell \u001b[1;32mIn[16], line 3\u001b[0m\n\u001b[0;32m      1\u001b[0m x \u001b[38;5;241m=\u001b[39m \u001b[38;5;124m\"\u001b[39m\u001b[38;5;124m10\u001b[39m\u001b[38;5;124m\"\u001b[39m\n\u001b[0;32m      2\u001b[0m y \u001b[38;5;241m=\u001b[39m \u001b[38;5;241m5\u001b[39m\n\u001b[1;32m----> 3\u001b[0m \u001b[38;5;28mprint\u001b[39m(x \u001b[38;5;241m+\u001b[39m y)\n",
      "\u001b[1;31mTypeError\u001b[0m: can only concatenate str (not \"int\") to str"
     ]
    }
   ],
   "source": [
    "x = \"10\"\n",
    "y = 5\n",
    "print(x + y)"
   ]
  },
  {
   "cell_type": "markdown",
   "id": "05703db0-9a22-45b0-bb72-134d68debb6f",
   "metadata": {},
   "source": [
    "2. What is the output of:\n",
    "Code: print(2 ** 3 ** 2)\n",
    "Options: A) 64, B) 512, C) 729, D) 36\n",
    "``Answer: B) 512``"
   ]
  },
  {
   "cell_type": "code",
   "execution_count": 19,
   "id": "d9724f60-cd9e-4de2-b560-f0242544d49c",
   "metadata": {},
   "outputs": [
    {
     "data": {
      "text/plain": [
       "512"
      ]
     },
     "execution_count": 19,
     "metadata": {},
     "output_type": "execute_result"
    }
   ],
   "source": [
    "2**3**2"
   ]
  },
  {
   "cell_type": "markdown",
   "id": "bafdec8d-715e-440f-8de2-46dc76f97c38",
   "metadata": {},
   "source": [
    "3. Correct syntax to define a function:\n",
    "Options: A) def syntax: B) function func(): C) def func(): D) define func():\n",
    "``Answer: C) def func():``"
   ]
  },
  {
   "cell_type": "code",
   "execution_count": 27,
   "id": "f4cbf972-1fcd-4c82-9896-d7b491134823",
   "metadata": {},
   "outputs": [
    {
     "data": {
      "text/plain": [
       "3"
      ]
     },
     "execution_count": 27,
     "metadata": {},
     "output_type": "execute_result"
    }
   ],
   "source": [
    "def func():\n",
    "    return 1 + 2\n",
    "\n",
    "func()"
   ]
  },
  {
   "cell_type": "markdown",
   "id": "8852a276-b069-49c6-b1ce-f9411762cfa1",
   "metadata": {},
   "source": [
    "4. Output of: print(10 * 3)\n",
    "Options: A) 101010, B) 30, C) 10+10+10, D) Error\n",
    "``Answer: B) 30``"
   ]
  },
  {
   "cell_type": "code",
   "execution_count": 30,
   "id": "8cee0b5d-5664-4f03-83fc-b1725f4abe67",
   "metadata": {},
   "outputs": [
    {
     "name": "stdout",
     "output_type": "stream",
     "text": [
      "30\n"
     ]
    }
   ],
   "source": [
    "print(10 * 3)"
   ]
  },
  {
   "cell_type": "markdown",
   "id": "91ac5fc4-c83b-4652-8b14-d4a143141919",
   "metadata": {},
   "source": [
    "5. Find the output:\n",
    "Code: a = [1, 2, 3], b = a.append(4), print(a)\n",
    "Options: A) [1, 2, 3, 4], B) [1, 2, 3], C) [4], D) Error\n",
    "``Answer: A) [1, 2, 3, 4]``"
   ]
  },
  {
   "cell_type": "code",
   "execution_count": 33,
   "id": "3d9e4f6d-c6a1-4f5b-8dcc-288160d37ceb",
   "metadata": {},
   "outputs": [
    {
     "data": {
      "text/plain": [
       "[1, 2, 3, 4]"
      ]
     },
     "execution_count": 33,
     "metadata": {},
     "output_type": "execute_result"
    }
   ],
   "source": [
    "a = [1,2,3]\n",
    "b = a\n",
    "b.append(4)\n",
    "a"
   ]
  },
  {
   "cell_type": "markdown",
   "id": "32083841-50af-4472-9a93-53c248d410da",
   "metadata": {},
   "source": [
    "6. Which keyword is used to begin a loop in Python?\n",
    "Options: A) if, B) while, C) switch, D) repeat\n",
    "``Answer: B) while``"
   ]
  },
  {
   "cell_type": "code",
   "execution_count": 40,
   "id": "74e7f63e-20fd-49d8-80c0-dcb5c40ca8b4",
   "metadata": {},
   "outputs": [
    {
     "name": "stdout",
     "output_type": "stream",
     "text": [
      "1\n",
      "2\n",
      "3\n",
      "4\n",
      "5\n",
      "6\n"
     ]
    }
   ],
   "source": [
    "i = 0\n",
    "while(True):\n",
    "    if i > 5: \n",
    "        break\n",
    "    i=i+1\n",
    "    print(i)"
   ]
  },
  {
   "cell_type": "markdown",
   "id": "7eb9cee9-0882-4b0f-a26e-6d225d7a4f0f",
   "metadata": {},
   "source": [
    "7. Identify the error in the code:\n",
    "Code: for i in range(5), print(i)\n",
    "Options: A) Missing parentheses, B) Indentation error, C) Missing colon, D) No error\n",
    "``Answer: D) No error``"
   ]
  },
  {
   "cell_type": "code",
   "execution_count": 43,
   "id": "d7a02dd6-293c-46af-a051-a35f539f4f5f",
   "metadata": {},
   "outputs": [
    {
     "name": "stdout",
     "output_type": "stream",
     "text": [
      "0\n",
      "1\n",
      "2\n",
      "3\n",
      "4\n"
     ]
    }
   ],
   "source": [
    "for i in range(5):\n",
    "    print(i)"
   ]
  },
  {
   "cell_type": "markdown",
   "id": "1d3351f6-6023-48e9-9fac-64d8b6cee7af",
   "metadata": {},
   "source": [
    "8. Output of: len(\"Pakistan\")\n",
    "Options: A) 8, B) 7, C) 10, D) 0\n",
    "``Answer: A) 8``"
   ]
  },
  {
   "cell_type": "code",
   "execution_count": 50,
   "id": "69fe8512-2136-43f7-bdf5-ec6b098bbd85",
   "metadata": {},
   "outputs": [
    {
     "name": "stdout",
     "output_type": "stream",
     "text": [
      "8\n"
     ]
    }
   ],
   "source": [
    "print(len(\"Pakistan\"))"
   ]
  },
  {
   "cell_type": "markdown",
   "id": "9fbf3b31-14ca-467f-8aa6-53f603ca72de",
   "metadata": {},
   "source": [
    "9. Code: print(type((1,2,3)))\n",
    "Options: A) list, B) <class list=\"\">, C) tuple, D) array</class>\n",
    "``Answer: C) tuple``"
   ]
  },
  {
   "cell_type": "code",
   "execution_count": 55,
   "id": "04fb101c-1062-4606-8c3d-ea92cf6c6d21",
   "metadata": {},
   "outputs": [
    {
     "data": {
      "text/plain": [
       "tuple"
      ]
     },
     "execution_count": 55,
     "metadata": {},
     "output_type": "execute_result"
    }
   ],
   "source": [
    "type((1,2,3))"
   ]
  },
  {
   "cell_type": "markdown",
   "id": "3be82252-323d-4978-9eca-fbef54627e6b",
   "metadata": {},
   "source": [
    "10. Which is a valid variable name?\n",
    "Options: A) val$, B) _value, C) for\n",
    "``Answer: B) _value``"
   ]
  },
  {
   "cell_type": "code",
   "execution_count": 58,
   "id": "50c7bb6c-300e-466c-8f86-dc3f976ffbca",
   "metadata": {},
   "outputs": [
    {
     "data": {
      "text/plain": [
       "99"
      ]
     },
     "execution_count": 58,
     "metadata": {},
     "output_type": "execute_result"
    }
   ],
   "source": [
    "_value = 99\n",
    "_value"
   ]
  },
  {
   "cell_type": "markdown",
   "id": "be82a927-c125-4faa-a77a-c45f5bf66b2a",
   "metadata": {},
   "source": [
    "11. What is the output: print(bool(\"\"))\n",
    "Options: A) True, B) False, C) \"\", D) None\n",
    "``Answer: B) False``"
   ]
  },
  {
   "cell_type": "code",
   "execution_count": 61,
   "id": "092226e3-83d2-4c79-a79d-c386d0c85739",
   "metadata": {},
   "outputs": [
    {
     "data": {
      "text/plain": [
       "False"
      ]
     },
     "execution_count": 61,
     "metadata": {},
     "output_type": "execute_result"
    }
   ],
   "source": [
    "bool(\"\")"
   ]
  },
  {
   "cell_type": "markdown",
   "id": "f847b45d-b65a-4bf6-9ac8-6bc7a4838762",
   "metadata": {},
   "source": [
    "12. What does the input() function return?\n",
    "Options: A) int, B) float, C) str, D) boolean\n",
    "``Answer: C) str``"
   ]
  },
  {
   "cell_type": "code",
   "execution_count": 66,
   "id": "1463a701-0d93-4372-b88e-5827ba7e2190",
   "metadata": {},
   "outputs": [
    {
     "name": "stdin",
     "output_type": "stream",
     "text": [
      " 10\n"
     ]
    },
    {
     "name": "stdout",
     "output_type": "stream",
     "text": [
      "<class 'str'>\n"
     ]
    }
   ],
   "source": [
    "ak = input()\n",
    "print(type(ak))"
   ]
  },
  {
   "cell_type": "markdown",
   "id": "de7f6c2f-4ff6-425a-a058-cdaea7615e98",
   "metadata": {},
   "source": [
    "13. Output of:\n",
    "Code: a = (1,2,3), print(a[3])\n",
    "Options: A) 3, B) IndexError, C) 0, D) None\n",
    "``Answer: B) IndexError``"
   ]
  },
  {
   "cell_type": "code",
   "execution_count": 69,
   "id": "f6894c68-0e0f-4064-8088-40427161a64b",
   "metadata": {},
   "outputs": [
    {
     "ename": "IndexError",
     "evalue": "tuple index out of range",
     "output_type": "error",
     "traceback": [
      "\u001b[1;31m---------------------------------------------------------------------------\u001b[0m",
      "\u001b[1;31mIndexError\u001b[0m                                Traceback (most recent call last)",
      "Cell \u001b[1;32mIn[69], line 2\u001b[0m\n\u001b[0;32m      1\u001b[0m a \u001b[38;5;241m=\u001b[39m (\u001b[38;5;241m1\u001b[39m,\u001b[38;5;241m2\u001b[39m,\u001b[38;5;241m3\u001b[39m)\n\u001b[1;32m----> 2\u001b[0m a[\u001b[38;5;241m3\u001b[39m]\n",
      "\u001b[1;31mIndexError\u001b[0m: tuple index out of range"
     ]
    }
   ],
   "source": [
    "a = (1,2,3)\n",
    "a[3]"
   ]
  },
  {
   "cell_type": "markdown",
   "id": "7ac39a18-c8ee-488f-9488-0b26962bb4ec",
   "metadata": {},
   "source": [
    "14. Identify the error:\n",
    "Code: name = 'Ali'\n",
    "print(Name)\n",
    "Options: A) NameError, B) SyntaxError, C) None, D) TypeError\n",
    "``Answer: A) NameError``"
   ]
  },
  {
   "cell_type": "code",
   "execution_count": 73,
   "id": "f9b1ee7f-278b-47d5-9c95-320e0dcf5cba",
   "metadata": {},
   "outputs": [
    {
     "ename": "NameError",
     "evalue": "name 'Name' is not defined",
     "output_type": "error",
     "traceback": [
      "\u001b[1;31m---------------------------------------------------------------------------\u001b[0m",
      "\u001b[1;31mNameError\u001b[0m                                 Traceback (most recent call last)",
      "Cell \u001b[1;32mIn[73], line 2\u001b[0m\n\u001b[0;32m      1\u001b[0m name \u001b[38;5;241m=\u001b[39m \u001b[38;5;124m'\u001b[39m\u001b[38;5;124mAli\u001b[39m\u001b[38;5;124m'\u001b[39m\n\u001b[1;32m----> 2\u001b[0m \u001b[38;5;28mprint\u001b[39m(Name)\n",
      "\u001b[1;31mNameError\u001b[0m: name 'Name' is not defined"
     ]
    }
   ],
   "source": [
    "name = 'Ali'\n",
    "print(Name)"
   ]
  },
  {
   "cell_type": "markdown",
   "id": "865d5a5e-c830-481e-a4d2-ea06df391ffb",
   "metadata": {},
   "source": [
    "15. What is NOT Python data type?\n",
    "Options: A) list, B) bool, C) real, D) dict\n",
    "``Answer: c) real``"
   ]
  },
  {
   "cell_type": "code",
   "execution_count": 82,
   "id": "2264c51f-1fe2-4133-aeca-8169d85208ed",
   "metadata": {},
   "outputs": [
    {
     "name": "stdout",
     "output_type": "stream",
     "text": [
      "Text Type:\tstr\n",
      "Numeric Types:\tint, float, complex\n",
      "Sequence Types:\tlist, tuple, range\n",
      "Mapping Type:\tdict\n",
      "Set Types:\tset, frozenset\n",
      "Boolean Type:\tbool\n",
      "Binary Types:\tbytes, bytearray, memoryview\n",
      "None Type:\tNoneType\n"
     ]
    }
   ],
   "source": [
    "print(\"\"\"Text Type:\tstr\n",
    "Numeric Types:\tint, float, complex\n",
    "Sequence Types:\tlist, tuple, range\n",
    "Mapping Type:\tdict\n",
    "Set Types:\tset, frozenset\n",
    "Boolean Type:\tbool\n",
    "Binary Types:\tbytes, bytearray, memoryview\n",
    "None Type:\tNoneType\"\"\")"
   ]
  },
  {
   "cell_type": "markdown",
   "id": "a382a030-5cae-4e0d-8dbf-0ea7d2c1a988",
   "metadata": {},
   "source": [
    "16. Output of: print(\"Python\"[::-1])\n",
    "Options: A) Python, B) nohtyP, C) Error, D) reverse\n",
    "``Answer: b) nohtyP``"
   ]
  },
  {
   "cell_type": "code",
   "execution_count": 85,
   "id": "ac4d9b9d-6241-4a20-8b89-1f5b9b5cb7db",
   "metadata": {},
   "outputs": [
    {
     "name": "stdout",
     "output_type": "stream",
     "text": [
      "nohtyP\n"
     ]
    }
   ],
   "source": [
    "print(\"Python\"[::-1])"
   ]
  },
  {
   "cell_type": "markdown",
   "id": "5779d289-229a-4826-b3ac-8398df856a40",
   "metadata": {},
   "source": [
    "17. Output of:\n",
    "Code: x = None, print(type(x))\n",
    "Options: A) None, B) class 'NoneType', C) Error, D) Null\n",
    "Answer: B) class 'NoneType'"
   ]
  },
  {
   "cell_type": "code",
   "execution_count": 96,
   "id": "11a832ac-76a9-40df-99f3-0cb014e050da",
   "metadata": {},
   "outputs": [
    {
     "name": "stdout",
     "output_type": "stream",
     "text": [
      "<class 'tuple'>\n",
      "<class 'NoneType'>\n"
     ]
    }
   ],
   "source": [
    "x = None, print(type(x))\n",
    "print(type(None))"
   ]
  },
  {
   "cell_type": "markdown",
   "id": "de97482e-2b27-4175-9e23-56bdc7f25e23",
   "metadata": {},
   "source": [
    "18. Find the syntax error:\n",
    "Code: if 5 > 3 print(\"Yes\")\n",
    "Options: A) Missing parenthesis, B) No colon, C) Indentation, D) Logical error\n",
    "``Answer: B) No colon``"
   ]
  },
  {
   "cell_type": "code",
   "execution_count": 100,
   "id": "887417e1-007a-43ea-9019-95e1ecbdf544",
   "metadata": {},
   "outputs": [
    {
     "ename": "SyntaxError",
     "evalue": "invalid syntax (2928912137.py, line 1)",
     "output_type": "error",
     "traceback": [
      "\u001b[1;36m  Cell \u001b[1;32mIn[100], line 1\u001b[1;36m\u001b[0m\n\u001b[1;33m    if 5 > 3 print(\"Yes\")\u001b[0m\n\u001b[1;37m             ^\u001b[0m\n\u001b[1;31mSyntaxError\u001b[0m\u001b[1;31m:\u001b[0m invalid syntax\n"
     ]
    }
   ],
   "source": [
    "if 5 > 3 print(\"Yes\")"
   ]
  },
  {
   "cell_type": "markdown",
   "id": "cddb402c-c048-4d12-8ce1-65146f7282ce",
   "metadata": {},
   "source": [
    "19. Value of: len([1, [2, 3], 4])\n",
    "Options: A) 5, B) 3, C) 4, D) Error\n",
    "``Answer: B) 3``"
   ]
  },
  {
   "cell_type": "code",
   "execution_count": 105,
   "id": "9074ba9e-412e-4be4-b9ec-171f0f2bc743",
   "metadata": {},
   "outputs": [
    {
     "data": {
      "text/plain": [
       "3"
      ]
     },
     "execution_count": 105,
     "metadata": {},
     "output_type": "execute_result"
    }
   ],
   "source": [
    "len([1, [2, 3], 4])"
   ]
  },
  {
   "cell_type": "markdown",
   "id": "4a9821cc-e653-46a3-aa65-02f76e2e598d",
   "metadata": {},
   "source": [
    "20. Output of: print(5 + \"6\")\n",
    "Options: A) 11, B) 56, C) TypeError, D) 5+6\n",
    "``Answer: C) TypeError``"
   ]
  },
  {
   "cell_type": "code",
   "execution_count": 109,
   "id": "a085d32b-bf78-46f8-a3fe-b2048f70fc35",
   "metadata": {},
   "outputs": [
    {
     "ename": "TypeError",
     "evalue": "unsupported operand type(s) for +: 'int' and 'str'",
     "output_type": "error",
     "traceback": [
      "\u001b[1;31m---------------------------------------------------------------------------\u001b[0m",
      "\u001b[1;31mTypeError\u001b[0m                                 Traceback (most recent call last)",
      "Cell \u001b[1;32mIn[109], line 1\u001b[0m\n\u001b[1;32m----> 1\u001b[0m \u001b[38;5;28mprint\u001b[39m(\u001b[38;5;241m5\u001b[39m \u001b[38;5;241m+\u001b[39m \u001b[38;5;124m\"\u001b[39m\u001b[38;5;124m6\u001b[39m\u001b[38;5;124m\"\u001b[39m)\n",
      "\u001b[1;31mTypeError\u001b[0m: unsupported operand type(s) for +: 'int' and 'str'"
     ]
    }
   ],
   "source": [
    "print(5 + \"6\")"
   ]
  },
  {
   "cell_type": "markdown",
   "id": "9a9a3ff6-0745-4e3c-985e-663ce57af334",
   "metadata": {},
   "source": [
    "21. Output of: b = 5.6, print(int(b))\n",
    "Options: A) 5, B) 6, C) TypeError, D) None\n",
    "Answer: A) 5"
   ]
  },
  {
   "cell_type": "code",
   "execution_count": 114,
   "id": "8be31783-6387-4337-8d80-8d6060112a9a",
   "metadata": {},
   "outputs": [
    {
     "name": "stdout",
     "output_type": "stream",
     "text": [
      "5\n"
     ]
    }
   ],
   "source": [
    "b = 5.6\n",
    "print(int(b))"
   ]
  },
  {
   "cell_type": "markdown",
   "id": "6ccc295a-713c-4869-bff1-0025a3f68078",
   "metadata": {},
   "source": [
    "22. Purpose of keyword pass:\n",
    "Options: A) End a loop, B) Ignore an error, C) Ignore block, D) None\n",
    "``Answer: C) Ignore block``"
   ]
  },
  {
   "cell_type": "code",
   "execution_count": 117,
   "id": "8ff064cc-bb12-4b0d-accb-e3156f4c2cc8",
   "metadata": {},
   "outputs": [],
   "source": [
    "def func():\n",
    "    pass"
   ]
  },
  {
   "cell_type": "markdown",
   "id": "337a3aba-4220-44a6-a925-26d53d95c759",
   "metadata": {},
   "source": [
    "23. Output of: print(10//3)\n",
    "Options: A) 3, B) 3.0, C) 4, D) 3.3\n",
    "``Answer: A) 3``"
   ]
  },
  {
   "cell_type": "code",
   "execution_count": 120,
   "id": "12a3e94a-3664-43bb-9c4d-793ca4860d6f",
   "metadata": {},
   "outputs": [
    {
     "name": "stdout",
     "output_type": "stream",
     "text": [
      "3\n"
     ]
    }
   ],
   "source": [
    "print(10//3)"
   ]
  },
  {
   "cell_type": "markdown",
   "id": "22803672-7b87-4bc6-85c9-2967e52c4ae5",
   "metadata": {},
   "source": [
    "24. Evaluate: print(3 > 2 and 2 < 1)\n",
    "Options: A) True, B) False, C) Error, D) None\n",
    "``Answer: B) False``"
   ]
  },
  {
   "cell_type": "code",
   "execution_count": 123,
   "id": "f8cf5f69-1c41-47ec-953d-02cc3cd41cf0",
   "metadata": {},
   "outputs": [
    {
     "name": "stdout",
     "output_type": "stream",
     "text": [
      "False\n"
     ]
    }
   ],
   "source": [
    "print(3 > 2 and 2 < 1)"
   ]
  },
  {
   "cell_type": "markdown",
   "id": "9a95867c-a602-4572-b95d-f77f21c7aa94",
   "metadata": {},
   "source": [
    "25. Correct list slicing: A) list[:3], B) list(0:2), C) list[0:2], D) A and C\n",
    "Answer: D) A and C"
   ]
  },
  {
   "cell_type": "code",
   "execution_count": 128,
   "id": "7406da3f-c3ec-4559-b94d-171cde8b236d",
   "metadata": {},
   "outputs": [
    {
     "name": "stdout",
     "output_type": "stream",
     "text": [
      "[1, 2, 3]\n"
     ]
    },
    {
     "data": {
      "text/plain": [
       "[1, 2]"
      ]
     },
     "execution_count": 128,
     "metadata": {},
     "output_type": "execute_result"
    }
   ],
   "source": [
    "list = [1,2,3,4,5,6,7,8,9,10]\n",
    "print(list[:3])\n",
    "list[0:2]"
   ]
  },
  {
   "cell_type": "markdown",
   "id": "b9a64823-6771-4aba-9b24-670ede3b0f74",
   "metadata": {},
   "source": [
    "26. What is mutable?\n",
    "Options: A) str, B) int, C) list, D) tuple\n",
    "``Answer: C) list``"
   ]
  },
  {
   "cell_type": "code",
   "execution_count": 132,
   "id": "54379fff-7b55-4767-b4e4-923411ba8eca",
   "metadata": {},
   "outputs": [
    {
     "data": {
      "text/plain": [
       "10"
      ]
     },
     "execution_count": 132,
     "metadata": {},
     "output_type": "execute_result"
    }
   ],
   "source": [
    "list = [1,2,3,4,5,6,7,8,9,10]\n",
    "list.append(10)\n",
    "list.pop()"
   ]
  },
  {
   "cell_type": "markdown",
   "id": "df9a9ae1-179e-4e2c-896a-394e7bf4064d",
   "metadata": {},
   "source": [
    "27. Output of: print(\"a\" in \"banana\")\n",
    "Options: A) True, B) False, C) Error, D) None\n",
    "``Answer: A) True``"
   ]
  },
  {
   "cell_type": "code",
   "execution_count": 135,
   "id": "1680b829-c689-4286-a87f-34bd701f8b01",
   "metadata": {},
   "outputs": [
    {
     "name": "stdout",
     "output_type": "stream",
     "text": [
      "True\n"
     ]
    }
   ],
   "source": [
    "print('a' in 'banana')"
   ]
  },
  {
   "cell_type": "markdown",
   "id": "dad91621-9c82-4024-8d3d-94abbd0d5424",
   "metadata": {},
   "source": [
    "28. What does df.head() do in pandas?\n",
    "Options: A) Show first 5 rows, B) Show last 5 rows, C) Show all rows, D) None\n",
    "``Answer: A) Show first 5 rows``"
   ]
  },
  {
   "cell_type": "code",
   "execution_count": 140,
   "id": "b2713225-9eeb-466c-afd1-35a0e42b857b",
   "metadata": {},
   "outputs": [
    {
     "data": {
      "text/html": [
       "<div>\n",
       "<style scoped>\n",
       "    .dataframe tbody tr th:only-of-type {\n",
       "        vertical-align: middle;\n",
       "    }\n",
       "\n",
       "    .dataframe tbody tr th {\n",
       "        vertical-align: top;\n",
       "    }\n",
       "\n",
       "    .dataframe thead th {\n",
       "        text-align: right;\n",
       "    }\n",
       "</style>\n",
       "<table border=\"1\" class=\"dataframe\">\n",
       "  <thead>\n",
       "    <tr style=\"text-align: right;\">\n",
       "      <th></th>\n",
       "      <th>empID</th>\n",
       "      <th>empName</th>\n",
       "      <th>empAge</th>\n",
       "      <th>empSalary</th>\n",
       "      <th>empDep</th>\n",
       "      <th>empLeaves</th>\n",
       "      <th>empGender</th>\n",
       "      <th>empJoinDate</th>\n",
       "      <th>empPS</th>\n",
       "      <th>City</th>\n",
       "    </tr>\n",
       "  </thead>\n",
       "  <tbody>\n",
       "    <tr>\n",
       "      <th>0</th>\n",
       "      <td>1001</td>\n",
       "      <td>Awais Ahmed</td>\n",
       "      <td>30</td>\n",
       "      <td>75000</td>\n",
       "      <td>IT</td>\n",
       "      <td>2</td>\n",
       "      <td>M</td>\n",
       "      <td>2/15/2019</td>\n",
       "      <td>4.2</td>\n",
       "      <td>Karachi</td>\n",
       "    </tr>\n",
       "    <tr>\n",
       "      <th>1</th>\n",
       "      <td>1002</td>\n",
       "      <td>Saira Ahmed</td>\n",
       "      <td>27</td>\n",
       "      <td>68000</td>\n",
       "      <td>HR</td>\n",
       "      <td>1</td>\n",
       "      <td>F</td>\n",
       "      <td>6/12/2021</td>\n",
       "      <td>4.5</td>\n",
       "      <td>Lahore</td>\n",
       "    </tr>\n",
       "    <tr>\n",
       "      <th>2</th>\n",
       "      <td>1003</td>\n",
       "      <td>Ali Raza</td>\n",
       "      <td>35</td>\n",
       "      <td>88000</td>\n",
       "      <td>Finance</td>\n",
       "      <td>3</td>\n",
       "      <td>M</td>\n",
       "      <td>10/20/2015</td>\n",
       "      <td>4.0</td>\n",
       "      <td>Islamabad</td>\n",
       "    </tr>\n",
       "    <tr>\n",
       "      <th>3</th>\n",
       "      <td>1004</td>\n",
       "      <td>Sana Sheikh</td>\n",
       "      <td>29</td>\n",
       "      <td>71000</td>\n",
       "      <td>Marketing</td>\n",
       "      <td>0</td>\n",
       "      <td>F</td>\n",
       "      <td>4/18/2018</td>\n",
       "      <td>4.3</td>\n",
       "      <td>Faisalabad</td>\n",
       "    </tr>\n",
       "    <tr>\n",
       "      <th>4</th>\n",
       "      <td>1005</td>\n",
       "      <td>Bilal Siddiqui</td>\n",
       "      <td>42</td>\n",
       "      <td>99000</td>\n",
       "      <td>Management</td>\n",
       "      <td>4</td>\n",
       "      <td>M</td>\n",
       "      <td>1/5/2010</td>\n",
       "      <td>4.7</td>\n",
       "      <td>Rawalpindi</td>\n",
       "    </tr>\n",
       "  </tbody>\n",
       "</table>\n",
       "</div>"
      ],
      "text/plain": [
       "   empID         empName  empAge  empSalary      empDep  empLeaves empGender  \\\n",
       "0   1001     Awais Ahmed      30      75000          IT          2         M   \n",
       "1   1002     Saira Ahmed      27      68000          HR          1         F   \n",
       "2   1003        Ali Raza      35      88000     Finance          3         M   \n",
       "3   1004     Sana Sheikh      29      71000   Marketing          0         F   \n",
       "4   1005  Bilal Siddiqui      42      99000  Management          4         M   \n",
       "\n",
       "  empJoinDate  empPS        City  \n",
       "0   2/15/2019    4.2     Karachi  \n",
       "1   6/12/2021    4.5      Lahore  \n",
       "2  10/20/2015    4.0   Islamabad  \n",
       "3   4/18/2018    4.3  Faisalabad  \n",
       "4    1/5/2010    4.7  Rawalpindi  "
      ]
     },
     "execution_count": 140,
     "metadata": {},
     "output_type": "execute_result"
    }
   ],
   "source": [
    "import pandas as pd\n",
    "df = pd.read_csv('./data.csv')\n",
    "df.head()"
   ]
  },
  {
   "cell_type": "markdown",
   "id": "7f591982-c8c5-4031-b585-c504a2a1ad4b",
   "metadata": {},
   "source": [
    "29. Output of: d = {\"a\": 1, \"b\": 2}, print(d[\"a\"])\n",
    "Options: A) 0, B) None, C) KeyError, D) 1\n",
    "``Answer: D) 1``"
   ]
  },
  {
   "cell_type": "code",
   "execution_count": 153,
   "id": "0a350a57-7eb0-40c5-81ca-d149e3f0e638",
   "metadata": {},
   "outputs": [
    {
     "name": "stdout",
     "output_type": "stream",
     "text": [
      "1\n"
     ]
    }
   ],
   "source": [
    "d = {\"a\": 1, \"b\": 2} \n",
    "print(d[\"a\"])"
   ]
  },
  {
   "cell_type": "markdown",
   "id": "72efd985-ca31-4eb0-ba8b-77636cba67f1",
   "metadata": {},
   "source": [
    "30. What is the correct syntax to import pandas?\n",
    "Options: A) import panda as pd, B) import pandas, C) import pandas as pd, D) import pan-\n",
    "``Answer: C) import pandas as pd``"
   ]
  },
  {
   "cell_type": "code",
   "execution_count": 158,
   "id": "23a29678-cb30-446c-8240-37a0c34d1234",
   "metadata": {},
   "outputs": [
    {
     "data": {
      "text/html": [
       "<div>\n",
       "<style scoped>\n",
       "    .dataframe tbody tr th:only-of-type {\n",
       "        vertical-align: middle;\n",
       "    }\n",
       "\n",
       "    .dataframe tbody tr th {\n",
       "        vertical-align: top;\n",
       "    }\n",
       "\n",
       "    .dataframe thead th {\n",
       "        text-align: right;\n",
       "    }\n",
       "</style>\n",
       "<table border=\"1\" class=\"dataframe\">\n",
       "  <thead>\n",
       "    <tr style=\"text-align: right;\">\n",
       "      <th></th>\n",
       "      <th>empID</th>\n",
       "      <th>empName</th>\n",
       "      <th>empAge</th>\n",
       "      <th>empSalary</th>\n",
       "      <th>empDep</th>\n",
       "      <th>empLeaves</th>\n",
       "      <th>empGender</th>\n",
       "      <th>empJoinDate</th>\n",
       "      <th>empPS</th>\n",
       "      <th>City</th>\n",
       "    </tr>\n",
       "  </thead>\n",
       "  <tbody>\n",
       "    <tr>\n",
       "      <th>0</th>\n",
       "      <td>False</td>\n",
       "      <td>False</td>\n",
       "      <td>False</td>\n",
       "      <td>False</td>\n",
       "      <td>False</td>\n",
       "      <td>False</td>\n",
       "      <td>False</td>\n",
       "      <td>False</td>\n",
       "      <td>False</td>\n",
       "      <td>False</td>\n",
       "    </tr>\n",
       "    <tr>\n",
       "      <th>1</th>\n",
       "      <td>False</td>\n",
       "      <td>False</td>\n",
       "      <td>False</td>\n",
       "      <td>False</td>\n",
       "      <td>False</td>\n",
       "      <td>False</td>\n",
       "      <td>False</td>\n",
       "      <td>False</td>\n",
       "      <td>False</td>\n",
       "      <td>False</td>\n",
       "    </tr>\n",
       "    <tr>\n",
       "      <th>2</th>\n",
       "      <td>False</td>\n",
       "      <td>False</td>\n",
       "      <td>False</td>\n",
       "      <td>False</td>\n",
       "      <td>False</td>\n",
       "      <td>False</td>\n",
       "      <td>False</td>\n",
       "      <td>False</td>\n",
       "      <td>False</td>\n",
       "      <td>False</td>\n",
       "    </tr>\n",
       "    <tr>\n",
       "      <th>3</th>\n",
       "      <td>False</td>\n",
       "      <td>False</td>\n",
       "      <td>False</td>\n",
       "      <td>False</td>\n",
       "      <td>False</td>\n",
       "      <td>False</td>\n",
       "      <td>False</td>\n",
       "      <td>False</td>\n",
       "      <td>False</td>\n",
       "      <td>False</td>\n",
       "    </tr>\n",
       "    <tr>\n",
       "      <th>4</th>\n",
       "      <td>False</td>\n",
       "      <td>False</td>\n",
       "      <td>False</td>\n",
       "      <td>False</td>\n",
       "      <td>False</td>\n",
       "      <td>False</td>\n",
       "      <td>False</td>\n",
       "      <td>False</td>\n",
       "      <td>False</td>\n",
       "      <td>False</td>\n",
       "    </tr>\n",
       "    <tr>\n",
       "      <th>5</th>\n",
       "      <td>False</td>\n",
       "      <td>False</td>\n",
       "      <td>False</td>\n",
       "      <td>False</td>\n",
       "      <td>False</td>\n",
       "      <td>False</td>\n",
       "      <td>False</td>\n",
       "      <td>False</td>\n",
       "      <td>False</td>\n",
       "      <td>False</td>\n",
       "    </tr>\n",
       "    <tr>\n",
       "      <th>6</th>\n",
       "      <td>False</td>\n",
       "      <td>False</td>\n",
       "      <td>False</td>\n",
       "      <td>False</td>\n",
       "      <td>False</td>\n",
       "      <td>False</td>\n",
       "      <td>False</td>\n",
       "      <td>False</td>\n",
       "      <td>False</td>\n",
       "      <td>False</td>\n",
       "    </tr>\n",
       "    <tr>\n",
       "      <th>7</th>\n",
       "      <td>False</td>\n",
       "      <td>False</td>\n",
       "      <td>False</td>\n",
       "      <td>False</td>\n",
       "      <td>False</td>\n",
       "      <td>False</td>\n",
       "      <td>False</td>\n",
       "      <td>False</td>\n",
       "      <td>False</td>\n",
       "      <td>False</td>\n",
       "    </tr>\n",
       "    <tr>\n",
       "      <th>8</th>\n",
       "      <td>False</td>\n",
       "      <td>False</td>\n",
       "      <td>False</td>\n",
       "      <td>False</td>\n",
       "      <td>False</td>\n",
       "      <td>False</td>\n",
       "      <td>False</td>\n",
       "      <td>False</td>\n",
       "      <td>False</td>\n",
       "      <td>False</td>\n",
       "    </tr>\n",
       "    <tr>\n",
       "      <th>9</th>\n",
       "      <td>False</td>\n",
       "      <td>False</td>\n",
       "      <td>False</td>\n",
       "      <td>False</td>\n",
       "      <td>False</td>\n",
       "      <td>False</td>\n",
       "      <td>False</td>\n",
       "      <td>False</td>\n",
       "      <td>False</td>\n",
       "      <td>False</td>\n",
       "    </tr>\n",
       "    <tr>\n",
       "      <th>10</th>\n",
       "      <td>False</td>\n",
       "      <td>False</td>\n",
       "      <td>False</td>\n",
       "      <td>False</td>\n",
       "      <td>False</td>\n",
       "      <td>False</td>\n",
       "      <td>False</td>\n",
       "      <td>False</td>\n",
       "      <td>False</td>\n",
       "      <td>False</td>\n",
       "    </tr>\n",
       "    <tr>\n",
       "      <th>11</th>\n",
       "      <td>False</td>\n",
       "      <td>False</td>\n",
       "      <td>False</td>\n",
       "      <td>False</td>\n",
       "      <td>False</td>\n",
       "      <td>False</td>\n",
       "      <td>False</td>\n",
       "      <td>True</td>\n",
       "      <td>True</td>\n",
       "      <td>True</td>\n",
       "    </tr>\n",
       "  </tbody>\n",
       "</table>\n",
       "</div>"
      ],
      "text/plain": [
       "    empID  empName  empAge  empSalary  empDep  empLeaves  empGender  \\\n",
       "0   False    False   False      False   False      False      False   \n",
       "1   False    False   False      False   False      False      False   \n",
       "2   False    False   False      False   False      False      False   \n",
       "3   False    False   False      False   False      False      False   \n",
       "4   False    False   False      False   False      False      False   \n",
       "5   False    False   False      False   False      False      False   \n",
       "6   False    False   False      False   False      False      False   \n",
       "7   False    False   False      False   False      False      False   \n",
       "8   False    False   False      False   False      False      False   \n",
       "9   False    False   False      False   False      False      False   \n",
       "10  False    False   False      False   False      False      False   \n",
       "11  False    False   False      False   False      False      False   \n",
       "\n",
       "    empJoinDate  empPS   City  \n",
       "0         False  False  False  \n",
       "1         False  False  False  \n",
       "2         False  False  False  \n",
       "3         False  False  False  \n",
       "4         False  False  False  \n",
       "5         False  False  False  \n",
       "6         False  False  False  \n",
       "7         False  False  False  \n",
       "8         False  False  False  \n",
       "9         False  False  False  \n",
       "10        False  False  False  \n",
       "11         True   True   True  "
      ]
     },
     "execution_count": 158,
     "metadata": {},
     "output_type": "execute_result"
    }
   ],
   "source": [
    "import pandas as pd\n",
    "df = pd.read_csv('./data.csv')\n",
    "df.isnull()"
   ]
  },
  {
   "cell_type": "markdown",
   "id": "554e44e1-b906-4131-986f-ddafc4080417",
   "metadata": {},
   "source": [
    "31. What will this return? type((1,))\n",
    "Options: A) tuple, B) int, C) list, D) str\n",
    "``Answer: A) tuple``"
   ]
  },
  {
   "cell_type": "code",
   "execution_count": 161,
   "id": "624af35a-3df5-475e-af76-caf8f5c38614",
   "metadata": {},
   "outputs": [
    {
     "data": {
      "text/plain": [
       "tuple"
      ]
     },
     "execution_count": 161,
     "metadata": {},
     "output_type": "execute_result"
    }
   ],
   "source": [
    "type((1,)) "
   ]
  },
  {
   "cell_type": "code",
   "execution_count": null,
   "id": "9b5d65be-1bb8-46cb-a853-5c99b96105e7",
   "metadata": {},
   "outputs": [],
   "source": []
  }
 ],
 "metadata": {
  "kernelspec": {
   "display_name": "Python [conda env:base] *",
   "language": "python",
   "name": "conda-base-py"
  },
  "language_info": {
   "codemirror_mode": {
    "name": "ipython",
    "version": 3
   },
   "file_extension": ".py",
   "mimetype": "text/x-python",
   "name": "python",
   "nbconvert_exporter": "python",
   "pygments_lexer": "ipython3",
   "version": "3.12.7"
  }
 },
 "nbformat": 4,
 "nbformat_minor": 5
}
