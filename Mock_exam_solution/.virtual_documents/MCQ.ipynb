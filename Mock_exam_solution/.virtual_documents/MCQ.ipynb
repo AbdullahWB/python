





x = "10"
y = 5
print(x + y)





2**3**2





def func():
    return 1 + 2

func()





print(10 * 3)





a = [1,2,3]
b = a
b.append(4)
a





i = 0
while(True):
    if i > 5: 
        break
    i=i+1
    print(i)





for i in range(5):
    print(i)





print(len("Pakistan"))





type((1,2,3))





_value = 99
_value





bool("")





ak = input()
print(type(ak))





a = (1,2,3)
a[3]





name = 'Ali'
print(Name)





print("""Text Type:	str
Numeric Types:	int, float, complex
Sequence Types:	list, tuple, range
Mapping Type:	dict
Set Types:	set, frozenset
Boolean Type:	bool
Binary Types:	bytes, bytearray, memoryview
None Type:	NoneType""")





print("Python"[::-1])





x = None, print(type(x))
print(type(None))





if 5 > 3 print("Yes")





len([1, [2, 3], 4])





print(5 + "6")





b = 5.6
print(int(b))





def func():
    pass





print(10//3)





print(3 > 2 and 2 < 1)





list = [1,2,3,4,5,6,7,8,9,10]
print(list[:3])
list[0:2]





list = [1,2,3,4,5,6,7,8,9,10]
list.append(10)
list.pop()





print('a' in 'banana')





import pandas as pd
df = pd.read_csv('./data.csv')
df.head()





d = {"a": 1, "b": 2} 
print(d["a"])





import pandas as pd
df = pd.read_csv('./data.csv')
df.isnull()





type((1,)) 



