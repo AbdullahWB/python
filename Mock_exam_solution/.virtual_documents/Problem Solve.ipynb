


n = int(input('fact no: '))
def factorial(n):
    if n <= 0:
        return 1
    return factorial(n-1) * n

print(factorial(n))





from datetime import datetime

class Person:
    def __init__(self, name, birthdate):
        self.name = name
        self.birthdate = birthdate

    def calculate_age(self):
        birth_date = datetime.strptime(self.birthdate, "%m-%d-%Y")
        today = datetime.today()
        age = today.year - birth_date.year - ((today.month, today.day) < (birth_date.month, birth_date.day))
        return age

    def is_minor(self):
        return self.calculate_age() < 18

Abdullah = Person('Abdullah', "09-08-2003")
Abdullah.is_minor()





def find_common_elements(list1, list2):
    set1 = set(list1)
    set2 = set(list2)
    return list(set1.intersection(set2))

list1 = [1,2,3,4,5,6,7,1,2,3,4]
list2 = [3,4,5,6,7,8,9,0,10,3,4]

find_common_elements(list1, list2)





import numpy as np

arr = np.arange(64)  # Creates a 1D array with 64 

for i in range(len(arr) + 1):
    for j in range(i, len(arr) + 1):
        if i * j <= len(arr):
            print(f"Factor pair: ({i}, {j})")

print("2D:", arr.reshape(8, 8))  # 8 * 8 = 64
print("3D:", arr.reshape(4, 4, 4))  # 4 * 4 * 4 = 64
print("4D:", arr.reshape(2, 4, 4, 2))  # 2 * 4 * 4 * 2 = 64





import matplotlib.pyplot as plt

# Create 5x5x3 array of zeros (black)
mat = np.zeros([5, 5, 3], dtype=np.uint8)

# Create checkerboard pattern
# Set pixels where (i + j) is even to white ([255, 255, 255])
for i in range(5):
    for j in range(5):
        if (i + j) % 2 == 0:
            mat[i, j] = [255, 255, 255]  # White

# Alternative using slicing (more efficient):
# mat[::2, ::2, :] = [255, 255, 255]  # White at even indices
# mat[1::2, 1::2, :] = [255, 255, 255]  # White at odd indices

# Print array info
print("Array shape:", mat.shape)
print("Sample pixel [0,0] (white):", mat[0, 0])
print("Sample pixel [0,1] (black):", mat[0, 1])

# Display the checkerboard image
plt.imshow(mat)
plt.title("5x5 Checkerboard Image")
plt.axis('off')  # Hide axes for clarity
plt.show()





import pandas as pd

df = pd.read_csv('data.csv')
def write_to_csv(filename, data):
    data.to_csv(filename, index= False)

def read_from_csv(filename):
    df2 = pd.read_csv(filename)
    print(df2)

write_to_csv('newData.csv', df)
read_from_csv('newData.csv')





import pathlib

def search_files(directory, extention):
    searchDir = pathlib.Path(directory)
    list3 = list(searchDir.rglob(extention))
    return list3

p = search_files('Downloads', '*.pdf')
print(p)














import pandas as pd
import numpy as np
import matplotlib.pyplot as plt

df = pd.read_csv('data.csv')

df


print("Mean Age:", df["empAge"].mean())
print("Median Age:", df["empAge"].median())
print("Mode Age:", df["empAge"].mode()[0])
print("Mean Salary:", df["empSalary"].mean())
print("Median Salary:", df["empSalary"].median())
print("Mode Salary:", df["empSalary"].mode()[0])

df['empAge'] = df['empAge'].fillna(df['empAge'].mean())
df['empSalary'] = df['empSalary'].fillna(df['empSalary'].mean())

df["empAge"].hist(bins=5)
plt.title("Histogram of Age")
plt.xlabel("Age")
plt.ylabel("Frequency")
plt.show()





def is_leap_year(year):
    return year % 4 == 0 and (year % 100 != 0 or year % 400 == 0)

is_leap_year(2000)





with open("student.txt", "w") as f:
    f.write("Student ID: 1001")
with open("student.txt", "r") as f:
    print(f.read())





import numpy as np
import matplotlib.pyplot as plt

def apply_threshold(image, threshold):
    return np.where(image < threshold, 0, 255)


image = np.random.randint(0, 255, (10, 10), dtype=np.uint8)

# Apply threshold
threshold = 128
result = apply_threshold(image, threshold)

# Display
plt.figure(figsize=(10, 5))
plt.subplot(1, 2, 1)
plt.title("Original Image")
plt.imshow(image, cmap='gray')
plt.subplot(1, 2, 2)
plt.title(f"Thresholded Image (threshold = {threshold})")
plt.imshow(result, cmap='gray')
plt.show()

print("Original Image:\n", image)
print("\nThresholded Image:\n", result)








import pandas as pd
import numpy as np


df = pd.read_csv('data.csv')


df.shape





df.info()





df.nunique()





import matplotlib.pyplot as plt

df = df[df['empAge'].apply(lambda x: x.is_integer())]
df = df.dropna(subset=['empAge'])
age_counts = df['empAge'].value_counts()

df['empAge'].hist(bins=10)
plt.xlabel('Age')
plt.ylabel('Frequency')
plt.title('Distribution of Age')





male_count = df[df['empGender'] == 'M'].shape[0]
female_count = df[df['empGender'] == 'F'].shape[0]
print(male_count, female_count)

labels = ['Male', 'Female']
sizes = [male_count, female_count]
plt.figure(figsize=(6, 6))
plt.pie(sizes, labels=labels, autopct='%1.1f%%', startangle=90)
plt.title('Gender Distribution')
# plt.axis('equal')





df.groupby('empDep')['empSalary'].max()


df.groupby('empDep')['empSalary'].max()['HR'] ## if you want just HR 


df.plot.bar(x='empDep', y='empSalary') ## distribution histogram





df_grouped = df.groupby('empDep')['empID'].count()
df_grouped


plt.figure(figsize=(8, 6))
df_grouped.plot(kind='bar', color='skyblue')





avgSalary = df.groupby('empDep')['empSalary'].mean()
avgSalary


plt.figure(figsize=(8, 6))
avgSalary.plot(kind='bar', color='skyblue')





avg_leaves = df['empLeaves'].mean()
avg_leaves





df['empJoinDate'] = pd.to_datetime(df['empJoinDate'], errors='coerce')
df['Tenure'] = (pd.to_datetime('today') - df['empJoinDate']).dt.days // 365
salary_by_tenure = df[['Tenure', 'empSalary']]


salary_by_tenure





df['empAge'].corr(df['empSalary']) 
##The corr() function in pandas is used to compute the pairwise correlation of columns in a DataFrame, excluding NA/null values





avg_salary_by_city = df.groupby('City')['empSalary'].mean()
avg_salary_by_city


plt.figure(figsize=(8, 6))
avg_salary_by_city.plot(kind='bar', color='skyblue')





df.isnull()


df.isnull().sum()





q1 = df['empSalary'].quantile(0.25)
q3 = df['empSalary'].quantile(0.75)
iqr = q3 - q1
outliers_salary = df[(df['empSalary'] < q1 - 1.5 * iqr) | (df['empSalary'] > q3 + 1.5 * iqr)]


outliers_salary





import random
df['resignDate'] = [random.choice([None, '2023-05-01']) for _ in range(len(df))]
left_count = df['resignDate'].notna().sum()


left_count


df = pd.DataFrame(data)


df



