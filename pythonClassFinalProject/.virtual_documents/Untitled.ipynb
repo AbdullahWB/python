import pandas as pd 


data = pd.read_csv('https://raw.githubusercontent.com/ammarmahmood1999/HeartHealthPrediction/refs/heads/master/heart.csv')


data



