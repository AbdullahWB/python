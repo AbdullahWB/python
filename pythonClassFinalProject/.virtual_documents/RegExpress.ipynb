import re


text = """
Awais and his family visited Chengdu City on 12/25/2024 and again on 01/01/2025. 
They posted on social media using hashtags like #HolidayTrip and #CTUAdventures.
Their contact numbers are 415-555-1234, (212) 666-9999, and 202.333.4444 x567.
Emails like awais.ahmed@example.com and familyAdd@example.com and familyAdd@example-1.com were listed in the directory.
They browsed https://travel.example.com and https://www.tripadvisor.com/ for planning. 
Awais's SSN was mistakenly visible as 123-45-6789 in the shared file.
They mentioned their backup plan via email to admin@company.net.
Conclusion: "It was very cold and the food food was amazing!"
The event took place at: <div class="event">Winter Gala</div> on December 31.
"""


text


pattern = r"\bEmail:\s*<a\s[^<>]*\bhref=\"mailto:([^\"]+)\""


print(re.findall(pattern, text))


# re.findall(r'') capital small/ or phone number/ or monthly or date
