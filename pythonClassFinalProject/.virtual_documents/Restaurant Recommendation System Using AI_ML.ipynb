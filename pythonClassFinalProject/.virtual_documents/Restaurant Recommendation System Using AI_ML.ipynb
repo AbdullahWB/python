


import numpy as np
import pandas as pd
import seaborn as sb
import matplotlib.pyplot as plt
import seaborn as sns
from sklearn.linear_model import LogisticRegression
from sklearn.linear_model import LinearRegression
from sklearn.model_selection import train_test_split
from sklearn.metrics import classification_report
from sklearn.metrics import confusion_matrix
from sklearn.metrics import r2_score
import warnings
warnings.filterwarnings('always')
warnings.filterwarnings('ignore')
import re
from nltk.corpus import stopwords
from sklearn.metrics.pairwise import linear_kernel
from sklearn.feature_extraction.text import CountVectorizer
from sklearn.feature_extraction.text import TfidfVectorizer





zomato_data_set = pd.read_csv('../../asset/zomato/zomato.csv')





zomato_data_set.head(1)


zomato_data_set.tail(1)





fresh_zomato_data = zomato_data_set.drop(['url','dish_liked','phone'], axis=1)





fresh_zomato_data.head(1)





total_of_duplicate =  fresh_zomato_data.duplicated().sum()
print(total_of_duplicate)





fresh_zomato_data.drop_duplicates(inplace=True)








fresh_zomato_data.isnull()





fresh_zomato_data.isnull().sum()





fresh_zomato_data.dropna(how='any', inplace=True)


fresh_zomato_data.isnull().sum()








fresh_zomato_data = fresh_zomato_data.rename(columns={'approx_cost(for two people)':'cost','listed_in(type)':'type', 'listed_in(city)':'city'})


fresh_zomato_data.tail(1)



