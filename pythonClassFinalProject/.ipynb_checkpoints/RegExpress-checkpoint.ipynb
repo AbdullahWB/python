{
 "cells": [
  {
   "cell_type": "code",
   "execution_count": 2,
   "id": "adbbc97c-0dc5-4601-8987-8766428b0e92",
   "metadata": {},
   "outputs": [],
   "source": [
    "import re"
   ]
  },
  {
   "cell_type": "code",
   "execution_count": 4,
   "id": "3ab15d77-1211-43ab-bfa7-928cb86c194d",
   "metadata": {},
   "outputs": [],
   "source": [
    "text = \"\"\"\n",
    "Awais and his family visited Chengdu City on 12/25/2024 and again on 01/01/2025. \n",
    "They posted on social media using hashtags like #HolidayTrip and #CTUAdventures.\n",
    "Their contact numbers are 415-555-1234, (212) 666-9999, and 202.333.4444 x567.\n",
    "Emails like awais.ahmed@example.com and familyAdd@example.com and familyAdd@example-1.com were listed in the directory.\n",
    "They browsed https://travel.example.com and https://www.tripadvisor.com/ for planning. \n",
    "Awais's SSN was mistakenly visible as 123-45-6789 in the shared file.\n",
    "They mentioned their backup plan via email to admin@company.net.\n",
    "Conclusion: \"It was very cold and the food food was amazing!\"\n",
    "The event took place at: <div class=\"event\">Winter Gala</div> on December 31.\n",
    "\"\"\""
   ]
  },
  {
   "cell_type": "code",
   "execution_count": 6,
   "id": "15cb69ec-33d0-4f53-b0c6-d114123214de",
   "metadata": {},
   "outputs": [
    {
     "data": {
      "text/plain": [
       "'\\nAwais and his family visited Chengdu City on 12/25/2024 and again on 01/01/2025. \\nThey posted on social media using hashtags like #HolidayTrip and #CTUAdventures.\\nTheir contact numbers are 415-555-1234, (212) 666-9999, and 202.333.4444 x567.\\nEmails like awais.ahmed@example.com and familyAdd@example.com and familyAdd@example-1.com were listed in the directory.\\nThey browsed https://travel.example.com and https://www.tripadvisor.com/ for planning. \\nAwais\\'s SSN was mistakenly visible as 123-45-6789 in the shared file.\\nThey mentioned their backup plan via email to admin@company.net.\\nConclusion: \"It was very cold and the food food was amazing!\"\\nThe event took place at: <div class=\"event\">Winter Gala</div> on December 31.\\n'"
      ]
     },
     "execution_count": 6,
     "metadata": {},
     "output_type": "execute_result"
    }
   ],
   "source": [
    "text"
   ]
  },
  {
   "cell_type": "code",
   "execution_count": 8,
   "id": "44698ce4-d909-4751-85db-52eeae97e8f8",
   "metadata": {},
   "outputs": [],
   "source": [
    "pattern = r\"\\bEmail:\\s*<a\\s[^<>]*\\bhref=\\\"mailto:([^\\\"]+)\\\"\""
   ]
  },
  {
   "cell_type": "code",
   "execution_count": 10,
   "id": "c3095235-3a5c-4207-bacf-fe445b9a2f04",
   "metadata": {},
   "outputs": [
    {
     "name": "stdout",
     "output_type": "stream",
     "text": [
      "[]\n"
     ]
    }
   ],
   "source": [
    "print(re.findall(pattern, text))"
   ]
  },
  {
   "cell_type": "code",
   "execution_count": null,
   "id": "7a6a55c7-64e0-4812-b5c9-508315e5434a",
   "metadata": {},
   "outputs": [],
   "source": [
    "# re.findall(r'') capital small/ or phone number/ or monthly or date"
   ]
  }
 ],
 "metadata": {
  "kernelspec": {
   "display_name": "Python [conda env:base] *",
   "language": "python",
   "name": "conda-base-py"
  },
  "language_info": {
   "codemirror_mode": {
    "name": "ipython",
    "version": 3
   },
   "file_extension": ".py",
   "mimetype": "text/x-python",
   "name": "python",
   "nbconvert_exporter": "python",
   "pygments_lexer": "ipython3",
   "version": "3.12.7"
  }
 },
 "nbformat": 4,
 "nbformat_minor": 5
}
